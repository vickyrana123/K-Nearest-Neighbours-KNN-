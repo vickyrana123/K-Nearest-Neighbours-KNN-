{
  "cells": [
    {
      "cell_type": "markdown",
      "metadata": {
        "id": "view-in-github",
        "colab_type": "text"
      },
      "source": [
        "<a href=\"https://colab.research.google.com/github/vickyrana123/K-Nearest-Neighbours-KNN-/blob/main/KNN.ipynb\" target=\"_parent\"><img src=\"https://colab.research.google.com/assets/colab-badge.svg\" alt=\"Open In Colab\"/></a>"
      ]
    },
    {
      "cell_type": "markdown",
      "source": [
        "**K Nearest Neighbours(KNN)**"
      ],
      "metadata": {
        "id": "m-YouWa73wnN"
      },
      "id": "m-YouWa73wnN"
    },
    {
      "cell_type": "markdown",
      "source": [
        "Import all required libraries"
      ],
      "metadata": {
        "id": "LGWc5oNe4KPw"
      },
      "id": "LGWc5oNe4KPw"
    },
    {
      "cell_type": "code",
      "source": [
        "from sklearn.datasets import load_iris\n",
        "from sklearn.model_selection import train_test_split\n",
        "import numpy as np\n",
        "import matplotlib.pyplot as plt\n",
        "from sklearn.neighbors import KNeighborsClassifier"
      ],
      "metadata": {
        "id": "6jRtTEHzqCaH"
      },
      "id": "6jRtTEHzqCaH",
      "execution_count": 1,
      "outputs": []
    },
    {
      "cell_type": "markdown",
      "id": "990d2833",
      "metadata": {
        "id": "990d2833"
      },
      "source": [
        "Loading data"
      ]
    },
    {
      "cell_type": "code",
      "execution_count": 2,
      "id": "e1679679",
      "metadata": {
        "id": "e1679679"
      },
      "outputs": [],
      "source": [
        "irisData = load_iris()"
      ]
    },
    {
      "cell_type": "markdown",
      "id": "fa3f6639",
      "metadata": {
        "id": "fa3f6639"
      },
      "source": [
        "Create feature and target arrays"
      ]
    },
    {
      "cell_type": "code",
      "execution_count": 3,
      "id": "df675f4b",
      "metadata": {
        "id": "df675f4b"
      },
      "outputs": [],
      "source": [
        "X = irisData.data\n",
        "y = irisData.target"
      ]
    },
    {
      "cell_type": "markdown",
      "id": "b8787e23",
      "metadata": {
        "id": "b8787e23"
      },
      "source": [
        "Split into training and test set"
      ]
    },
    {
      "cell_type": "code",
      "execution_count": 4,
      "id": "e6ce6b61",
      "metadata": {
        "id": "e6ce6b61"
      },
      "outputs": [],
      "source": [
        "X_train, X_test, y_train, y_test = train_test_split(\n",
        "             X, y, test_size = 0.2, random_state=42)\n",
        "\n",
        "neighbors = np.arange(1, 9)\n",
        "train_accuracy = np.empty(len(neighbors))\n",
        "test_accuracy = np.empty(len(neighbors))"
      ]
    },
    {
      "cell_type": "markdown",
      "id": "69aa3f18",
      "metadata": {
        "id": "69aa3f18"
      },
      "source": [
        "Loop over K values"
      ]
    },
    {
      "cell_type": "code",
      "execution_count": 5,
      "id": "0066ec6b",
      "metadata": {
        "id": "0066ec6b"
      },
      "outputs": [],
      "source": [
        "for i, k in enumerate(neighbors):\n",
        "    knn = KNeighborsClassifier(n_neighbors=k)\n",
        "    knn.fit(X_train, y_train)"
      ]
    },
    {
      "cell_type": "markdown",
      "id": "ecbe6da8",
      "metadata": {
        "id": "ecbe6da8"
      },
      "source": [
        "Compute training and test data accuracy"
      ]
    },
    {
      "cell_type": "code",
      "execution_count": 6,
      "id": "d925af5b",
      "metadata": {
        "id": "d925af5b"
      },
      "outputs": [],
      "source": [
        "train_accuracy[i] = knn.score(X_train, y_train)\n",
        "test_accuracy[i] = knn.score(X_test, y_test)"
      ]
    },
    {
      "cell_type": "markdown",
      "id": "07b120b9",
      "metadata": {
        "id": "07b120b9"
      },
      "source": [
        "Generate plot"
      ]
    },
    {
      "cell_type": "code",
      "execution_count": 7,
      "id": "7c16b97e",
      "metadata": {
        "id": "7c16b97e",
        "outputId": "42907fbb-40d9-4744-980e-88d644a0fdbf",
        "colab": {
          "base_uri": "https://localhost:8080/",
          "height": 450
        }
      },
      "outputs": [
        {
          "output_type": "display_data",
          "data": {
            "text/plain": [
              "<Figure size 640x480 with 1 Axes>"
            ],
            "image/png": "[encoded data removed]"
          },
          "metadata": {}
        }
      ],
      "source": [
        "plt.plot(neighbors, test_accuracy, label = 'Testing dataset Accuracy')\n",
        "plt.plot(neighbors, train_accuracy, label = 'Training dataset Accuracy')\n",
        "plt.legend()\n",
        "plt.xlabel('n_neighbors')\n",
        "plt.ylabel('Accuracy')\n",
        "plt.show()"
      ]
    }
  ],
  "metadata": {
    "kernelspec": {
      "display_name": "Python 3 (ipykernel)",
      "language": "python",
      "name": "python3"
    },
    "language_info": {
      "codemirror_mode": {
        "name": "ipython",
        "version": 3
      },
      "file_extension": ".py",
      "mimetype": "text/x-python",
      "name": "python",
      "nbconvert_exporter": "python",
      "pygments_lexer": "ipython3",
      "version": "3.9.13"
    },
    "colab": {
      "provenance": [],
      "include_colab_link": true
    }
  },
  "nbformat": 4,
  "nbformat_minor": 5
}